{
  "nbformat": 4,
  "nbformat_minor": 0,
  "metadata": {
    "colab": {
      "provenance": []
    },
    "kernelspec": {
      "name": "python3",
      "display_name": "Python 3"
    },
    "language_info": {
      "name": "python"
    }
  },
  "cells": [
    {
      "cell_type": "code",
      "source": [
        "from google.colab import drive\n",
        "drive.mount('/content/drive')"
      ],
      "metadata": {
        "colab": {
          "base_uri": "https://localhost:8080/"
        },
        "id": "t-xJbZzs8ajg",
        "outputId": "38ace218-3968-44c5-b067-6cbce0cad477"
      },
      "execution_count": null,
      "outputs": [
        {
          "output_type": "stream",
          "name": "stdout",
          "text": [
            "Drive already mounted at /content/drive; to attempt to forcibly remount, call drive.mount(\"/content/drive\", force_remount=True).\n"
          ]
        }
      ]
    },
    {
      "cell_type": "markdown",
      "source": [
        "#Import libraries and load the data"
      ],
      "metadata": {
        "id": "i2NWMEbM-Uvg"
      }
    },
    {
      "cell_type": "code",
      "execution_count": null,
      "metadata": {
        "id": "Erjug4Wl4OW4"
      },
      "outputs": [],
      "source": [
        "import pandas as pd\n",
        "import numpy as np\n",
        "from sklearn.metrics.pairwise import cosine_similarity\n",
        "from scipy.sparse import csr_matrix\n",
        "from sklearn.neighbors import NearestNeighbors"
      ]
    },
    {
      "cell_type": "code",
      "source": [
        "ratings = pd.read_csv('/content/drive/MyDrive/ratings.csv')\n",
        "movies = pd.read_csv('/content/drive/MyDrive/movies.csv')"
      ],
      "metadata": {
        "id": "TpcIVYPZ8dlG"
      },
      "execution_count": null,
      "outputs": []
    },
    {
      "cell_type": "markdown",
      "source": [
        "#User-Based Collaborative Filtering"
      ],
      "metadata": {
        "id": "6J2qPO-t9tR-"
      }
    },
    {
      "cell_type": "code",
      "source": [
        "user_movie_matrix = ratings.pivot_table(index='userId', columns='movieId', values='rating')\n",
        "user_similarity = cosine_similarity(user_movie_matrix.fillna(0))"
      ],
      "metadata": {
        "id": "yljINeSx8kWg"
      },
      "execution_count": null,
      "outputs": []
    },
    {
      "cell_type": "code",
      "source": [
        "target_user = 1\n",
        "user_ratings = user_movie_matrix.loc[target_user].fillna(0)\n",
        "sim_scores = user_similarity[target_user-1]\n",
        "similarity_sum = np.sum(sim_scores)"
      ],
      "metadata": {
        "id": "p9O3_y_k8nx1"
      },
      "execution_count": null,
      "outputs": []
    },
    {
      "cell_type": "code",
      "source": [
        "weighted_sum = np.dot(user_movie_matrix.fillna(0).T, sim_scores)\n",
        "recommendations = pd.DataFrame({'movieId': user_movie_matrix.columns, 'score': weighted_sum / similarity_sum})"
      ],
      "metadata": {
        "id": "KxCAia2O8pa8"
      },
      "execution_count": null,
      "outputs": []
    },
    {
      "cell_type": "code",
      "source": [
        "watched_movies = ratings.loc[ratings['userId'] == target_user, 'movieId']\n",
        "recommendations = recommendations.loc[~recommendations['movieId'].isin(watched_movies)]"
      ],
      "metadata": {
        "id": "xazj3FLX8rBu"
      },
      "execution_count": null,
      "outputs": []
    },
    {
      "cell_type": "code",
      "source": [
        "# join with movie titles\n",
        "recommendations = recommendations.merge(movies, on='movieId').sort_values('score', ascending=False).head(10)\n",
        "print(recommendations[['title', 'score']])"
      ],
      "metadata": {
        "colab": {
          "base_uri": "https://localhost:8080/"
        },
        "id": "TcSgZxGH8scV",
        "outputId": "c9118857-7800-49a3-cdde-dc0b806a3477"
      },
      "execution_count": null,
      "outputs": [
        {
          "output_type": "stream",
          "name": "stdout",
          "text": [
            "                                                  title     score\n",
            "259                    Shawshank Redemption, The (1994)  2.622414\n",
            "475                   Terminator 2: Judgment Day (1991)  2.061920\n",
            "615                               Godfather, The (1972)  1.836914\n",
            "1895                            Sixth Sense, The (1999)  1.643315\n",
            "3402  Lord of the Rings: The Fellowship of the Ring,...  1.605043\n",
            "115                                    Apollo 13 (1995)  1.566524\n",
            "28            Twelve Monkeys (a.k.a. 12 Monkeys) (1995)  1.564531\n",
            "4559  Lord of the Rings: The Return of the King, The...  1.483950\n",
            "3899      Lord of the Rings: The Two Towers, The (2002)  1.465234\n",
            "474                                      Aladdin (1992)  1.459054\n"
          ]
        }
      ]
    }
  ]
}